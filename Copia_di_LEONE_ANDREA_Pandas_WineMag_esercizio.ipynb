{
  "nbformat": 4,
  "nbformat_minor": 0,
  "metadata": {
    "colab": {
      "provenance": [],
      "include_colab_link": true
    },
    "kernelspec": {
      "name": "python3",
      "display_name": "Python 3"
    },
    "language_info": {
      "name": "python"
    }
  },
  "cells": [
    {
      "cell_type": "markdown",
      "metadata": {
        "id": "view-in-github",
        "colab_type": "text"
      },
      "source": [
        "<a href=\"https://colab.research.google.com/github/AndreaLeone06/Python/blob/main/Copia_di_LEONE_ANDREA_Pandas_WineMag_esercizio.ipynb\" target=\"_parent\"><img src=\"https://colab.research.google.com/assets/colab-badge.svg\" alt=\"Open In Colab\"/></a>"
      ]
    },
    {
      "cell_type": "markdown",
      "source": [
        "##Pandas - esercizio 1"
      ],
      "metadata": {
        "id": "n0Lfk4hlIHyS"
      }
    },
    {
      "cell_type": "markdown",
      "source": [
        "Prendere in considerazione i dati presenti nel file winemag-data-130k-v2.json e scrivere le istruzioni necessarie per:"
      ],
      "metadata": {
        "id": "TRkfGLkjkELm"
      }
    },
    {
      "cell_type": "code",
      "source": [
        "from google.colab import drive\n",
        "drive.mount('/content/drive')\n",
        "import pandas as pd"
      ],
      "metadata": {
        "colab": {
          "base_uri": "https://localhost:8080/"
        },
        "id": "BrYyqK27GSFU",
        "outputId": "3350959b-a161-4621-c07e-f35c5b7ebaeb"
      },
      "execution_count": 1,
      "outputs": [
        {
          "output_type": "stream",
          "name": "stdout",
          "text": [
            "Mounted at /content/drive\n"
          ]
        }
      ]
    },
    {
      "cell_type": "markdown",
      "source": [
        "1. caricare in un dataframe i dati presenti nel file"
      ],
      "metadata": {
        "id": "aevMoSsKkmB3"
      }
    },
    {
      "cell_type": "code",
      "source": [
        "df = pd.read_json('/content/drive/MyDrive/Colab Notebooks/winemag-data-130k-v2.json')"
      ],
      "metadata": {
        "id": "j2VnwPBBGQC8"
      },
      "execution_count": 86,
      "outputs": []
    },
    {
      "cell_type": "markdown",
      "source": [
        "2. visualizzare i primi 10 record del file. Usare due modi"
      ],
      "metadata": {
        "id": "Iuzl-iCnkrhx"
      }
    },
    {
      "cell_type": "code",
      "source": [
        "df.head(10)\n",
        "df[:10]"
      ],
      "metadata": {
        "id": "9SFNxWAgkzIQ"
      },
      "execution_count": null,
      "outputs": []
    },
    {
      "cell_type": "markdown",
      "source": [
        "3. visualizzare gli ultimi 10 record del dataframe. Usare due modi."
      ],
      "metadata": {
        "id": "hzrtwivOkzqc"
      }
    },
    {
      "cell_type": "code",
      "source": [
        "df.tail(10)\n",
        "df[-10:]"
      ],
      "metadata": {
        "id": "hlp4abLOhzr9"
      },
      "execution_count": null,
      "outputs": []
    },
    {
      "cell_type": "markdown",
      "source": [
        "4. visualizzare la colonna 'points'. Utilizzare due modi"
      ],
      "metadata": {
        "id": "-5FdxYV6lARr"
      }
    },
    {
      "cell_type": "code",
      "source": [
        "df['points']\n",
        "df.points"
      ],
      "metadata": {
        "id": "gHitOojolQN2"
      },
      "execution_count": null,
      "outputs": []
    },
    {
      "cell_type": "markdown",
      "source": [
        "5. visualizzare le colonne 'price' e 'title'"
      ],
      "metadata": {
        "id": "3BSP_qqKlQnv"
      }
    },
    {
      "cell_type": "code",
      "source": [
        "df[['price','title']]"
      ],
      "metadata": {
        "id": "UDz_6RnHldOh"
      },
      "execution_count": null,
      "outputs": []
    },
    {
      "cell_type": "markdown",
      "source": [
        "6. visualizzare tutti i dati dei record che si trovano dalla posizione 1000 alla posizione 1010"
      ],
      "metadata": {
        "id": "Uq5PTeHZldvi"
      }
    },
    {
      "cell_type": "code",
      "source": [
        "df[1000:1011]"
      ],
      "metadata": {
        "id": "Bln3P0F1l2XF"
      },
      "execution_count": null,
      "outputs": []
    },
    {
      "cell_type": "markdown",
      "source": [
        "7. visualizzare le colonne 'price' e 'title' dei record che si trovano dalla posizione 1000 alla posizione 1010"
      ],
      "metadata": {
        "id": "gFgxVLOAl23O"
      }
    },
    {
      "cell_type": "code",
      "source": [
        "df[['price','title']][1000:1011]"
      ],
      "metadata": {
        "id": "sFcAUCf2mPbm"
      },
      "execution_count": null,
      "outputs": []
    },
    {
      "cell_type": "markdown",
      "source": [
        "8. cambiare i punti del vino 'Nicosia 2013 Vulkà Bianco (Etna)' da 87 a 89"
      ],
      "metadata": {
        "id": "742qN3NimQBh"
      }
    },
    {
      "cell_type": "code",
      "source": [
        "df.loc[df.title==\"Nicosia 2013 Vulkà Bianco (Etna)\",\"points\"]+=10"
      ],
      "metadata": {
        "id": "tuzCY3c79Dd4"
      },
      "execution_count": 94,
      "outputs": []
    },
    {
      "cell_type": "markdown",
      "source": [
        "9. aumentare i punti del vino 'Quinta dos Avidagos 2011 Avidagos Red (Douro)' di 10 unità"
      ],
      "metadata": {
        "id": "J4BHlHf2msuB"
      }
    },
    {
      "cell_type": "code",
      "source": [
        "df.loc[df.title==\"Quinta dos Avidagos 2011 Avidagos Red (Douro)\",\"points\"]+=10#riga,colonna"
      ],
      "metadata": {
        "id": "wrexqJqbm-iZ"
      },
      "execution_count": null,
      "outputs": []
    },
    {
      "cell_type": "markdown",
      "source": [
        "10. aumentare tutti i prezzi dei vini del 10%"
      ],
      "metadata": {
        "id": "RSg_BH6tm-9E"
      }
    },
    {
      "cell_type": "code",
      "source": [
        "df[\"price\"] = df[\"price\"]*1.1"
      ],
      "metadata": {
        "id": "J1pCT7VdnLDP"
      },
      "execution_count": null,
      "outputs": []
    },
    {
      "cell_type": "markdown",
      "source": [
        "11. contare il numero di vini italiani presenti nel datafrane"
      ],
      "metadata": {
        "id": "gqKcBOWmnL3P"
      }
    },
    {
      "cell_type": "code",
      "source": [
        "len(df[df.country=='Italy'])"
      ],
      "metadata": {
        "id": "gQIyxqN7nRPL"
      },
      "execution_count": null,
      "outputs": []
    },
    {
      "cell_type": "markdown",
      "source": [
        "12. trovare il prezzo del vino che costa di più"
      ],
      "metadata": {
        "id": "HAuLputWnRoO"
      }
    },
    {
      "cell_type": "code",
      "source": [
        "df['price'].max()"
      ],
      "metadata": {
        "id": "wrQkhYxNnWV4",
        "colab": {
          "base_uri": "https://localhost:8080/"
        },
        "outputId": "9801b223-1162-43b0-bd02-c4072a3841e2"
      },
      "execution_count": null,
      "outputs": [
        {
          "output_type": "execute_result",
          "data": {
            "text/plain": [
              "2970.0"
            ]
          },
          "metadata": {},
          "execution_count": 24
        }
      ]
    },
    {
      "cell_type": "markdown",
      "source": [
        "13. trovare il prezzo del vino che costa di meno"
      ],
      "metadata": {
        "id": "MMbyTj7dnWy7"
      }
    },
    {
      "cell_type": "code",
      "source": [
        "df['price'].min()"
      ],
      "metadata": {
        "id": "Uu_uv70Vnad0",
        "colab": {
          "base_uri": "https://localhost:8080/"
        },
        "outputId": "83710df2-e1aa-47c3-f910-f11a9ef7b14f"
      },
      "execution_count": null,
      "outputs": [
        {
          "output_type": "execute_result",
          "data": {
            "text/plain": [
              "3.6"
            ]
          },
          "metadata": {},
          "execution_count": 25
        }
      ]
    },
    {
      "cell_type": "markdown",
      "source": [
        "14. trovare il pezzo medio dei vini"
      ],
      "metadata": {
        "id": "kjr-QYD8na1C"
      }
    },
    {
      "cell_type": "code",
      "source": [
        "from statistics import mean\n",
        "df['price'].mean()"
      ],
      "metadata": {
        "id": "bvRfa4xpnd4y",
        "colab": {
          "base_uri": "https://localhost:8080/"
        },
        "outputId": "e8e9439d-a92a-4b1e-c52d-68599a35511d"
      },
      "execution_count": null,
      "outputs": [
        {
          "output_type": "execute_result",
          "data": {
            "text/plain": [
              "31.827050216986983"
            ]
          },
          "metadata": {},
          "execution_count": 26
        }
      ]
    },
    {
      "cell_type": "markdown",
      "source": [
        "15. trovare il prezzo medio dei vini italiani, confrontarlo con il prezzo medio dei vini francesi e dire quali costano di più"
      ],
      "metadata": {
        "id": "vghM0Av1neZQ"
      }
    },
    {
      "cell_type": "code",
      "source": [
        "if df[df.country =='Italy'][\"price\"].max() > df[df.country =='France'][\"price\"].max():\n",
        "  print(\"I vini italiani costano di più\")\n",
        "else: print(\"I vini francesi costano di più\")"
      ],
      "metadata": {
        "id": "Otqo1IoPnrhb"
      },
      "execution_count": null,
      "outputs": []
    },
    {
      "cell_type": "markdown",
      "source": [
        "16. visualizzare i vini di cui non si conosce il prezzo"
      ],
      "metadata": {
        "id": "9PfaOOp0nsUc"
      }
    },
    {
      "cell_type": "code",
      "source": [
        "df.loc[df.price.isnull()]"
      ],
      "metadata": {
        "id": "an7iCdxln5w5"
      },
      "execution_count": null,
      "outputs": []
    },
    {
      "cell_type": "markdown",
      "source": [
        "17. visualizzare i vini che hanno le parole 'tropical fruit' nella descrizione"
      ],
      "metadata": {
        "id": "-fmQg-juoPsh"
      }
    },
    {
      "cell_type": "code",
      "source": [
        "df[df.description.str.contains('tropical fruit')]"
      ],
      "metadata": {
        "id": "dfL2bsx0onsW"
      },
      "execution_count": null,
      "outputs": []
    },
    {
      "cell_type": "markdown",
      "source": [
        "18. caricare in un nuovo dataframe l'elenco completo dei vini italiani che hanno ottenuto un punteggio compreso tra 82 e 85 punti (estremi esclusi). Visualizzare poi il nuovo dataframe facendo in modo che l'utente possa vedere tutti i vini"
      ],
      "metadata": {
        "id": "e8Q0pcHOooFB"
      }
    },
    {
      "cell_type": "code",
      "source": [
        "cd=df[(df.country == 'Italy') & (df.points > 82) & (df.points < 85)]\n",
        "cd\n",
        "len(cd)"
      ],
      "metadata": {
        "id": "brbIlh1Lo9-j"
      },
      "execution_count": null,
      "outputs": []
    },
    {
      "cell_type": "code",
      "source": [
        "a=df[(df[df.points<85][\"country\"]==\"Italy\") & (df[df.points>82][\"country\"]==\"Italy\")]\n",
        "print(len(a))"
      ],
      "metadata": {
        "id": "dCPWpfovwEDs"
      },
      "execution_count": null,
      "outputs": []
    }
  ]
}
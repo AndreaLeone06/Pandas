{
  "nbformat": 4,
  "nbformat_minor": 0,
  "metadata": {
    "colab": {
      "provenance": [],
      "authorship_tag": "ABX9TyM+nshQKLJ6DATmGUFf/1MZ",
      "include_colab_link": true
    },
    "kernelspec": {
      "name": "python3",
      "display_name": "Python 3"
    },
    "language_info": {
      "name": "python"
    }
  },
  "cells": [
    {
      "cell_type": "markdown",
      "metadata": {
        "id": "view-in-github",
        "colab_type": "text"
      },
      "source": [
        "<a href=\"https://colab.research.google.com/github/AndreaLeone06/Python/blob/main/Untitled0.ipynb\" target=\"_parent\"><img src=\"https://colab.research.google.com/assets/colab-badge.svg\" alt=\"Open In Colab\"/></a>"
      ]
    },
    {
      "cell_type": "code",
      "execution_count": null,
      "metadata": {
        "id": "vccQ4m59Bk8X"
      },
      "outputs": [],
      "source": [
        "print(\"hello word!\")"
      ]
    },
    {
      "cell_type": "code",
      "source": [
        "c = 10.5\n",
        "a = 10\n",
        "b = 20\n",
        "\n",
        "print( a,b,c)"
      ],
      "metadata": {
        "colab": {
          "base_uri": "https://localhost:8080/"
        },
        "id": "UXcvQlyWFS8K",
        "outputId": "38b4fd00-e460-492a-b5f2-5c8864ec66f8"
      },
      "execution_count": null,
      "outputs": [
        {
          "output_type": "stream",
          "name": "stdout",
          "text": [
            "10 20 10.5\n"
          ]
        }
      ]
    },
    {
      "cell_type": "code",
      "source": [
        "somma = a + b\n",
        "sottrazione = a - b\n",
        "moltiplicazione = a * b\n",
        "divisione = a / b\n",
        "\n",
        "print(somma, sottrazione, moltiplicazione, divisione)"
      ],
      "metadata": {
        "colab": {
          "base_uri": "https://localhost:8080/"
        },
        "id": "bPnZyP3sFT8K",
        "outputId": "0ab6c704-d116-4120-8556-6a6e86cd8abe"
      },
      "execution_count": null,
      "outputs": [
        {
          "output_type": "stream",
          "name": "stdout",
          "text": [
            "30 -10 200 0.5\n"
          ]
        }
      ]
    },
    {
      "cell_type": "code",
      "source": [
        "#inserimento dei dati\n",
        "\n",
        "peso = input(\"inserisci il tuo peso: \")\n",
        "altezza = input(\"inserisci la tua altezza: \")\n",
        "imc = int(peso) / (float(altezza) * float(altezza))\n",
        "print(\"il tuo indice di massa corporea è: \" ,imc)\n",
        "\n",
        "if imc < 18.50:\n",
        "  print(\" sottopeso \")\n",
        "elif imc >= 18.50 and imc <= 24.99:\n",
        "  print(\" normopeso \")\n",
        "elif imc > 24.99:\n",
        "  print(\" sovrappeso\")\n"
      ],
      "metadata": {
        "id": "xYMXWXOtGX4x"
      },
      "execution_count": null,
      "outputs": []
    },
    {
      "cell_type": "code",
      "source": [
        "#scrivere un programma che calcoli le tasse da pagare.\n",
        "# se il reddito è inferiore a 30.000€ euro, si paga il 15%\n",
        "# se il reddito è compreso fra 30.000€ e 60.000€ si paga il 20%\n",
        "# se il reddito è supreiore a 60.000€ si paga il 30%\n",
        "\n",
        "reddito = int(input(\"inserisci il tuo reddito\"))\n",
        "\n",
        "if reddito < 30000:\n",
        "  costo= \n",
        "\n",
        "elif reddito < 60000:\n",
        "  costo=\n",
        "\n",
        "elif reddito > 60000:\n",
        "  costo= \n",
        "\n",
        "\n",
        "\n"
      ],
      "metadata": {
        "id": "5_9m3A0rO7zh"
      },
      "execution_count": null,
      "outputs": []
    },
    {
      "cell_type": "code",
      "source": [
        "# un negozio vuole intensivare gli aquisti applicando sconti maggiori a chi spende di più, se un cliente spende fino a 100€, \n",
        "# viene fatto lo sconto del 15%, se spende da 100 a 200€, lo sconto è sel 20%, se spende da 200€ a 300€, lo sconto è del 40%\n",
        "# se spende oltre 300€, lo sconto è del 60%\n",
        "# scrivere un programma che dato il totale dell'acquisto, calcoli il prezzo finale che il cliente deve pagare.\n",
        "\n",
        "importo = input(\"inserisci l'importo totale\")\n",
        "importo = float(importo)\n",
        "if importo < 100:\n",
        "  sconto = importo * 15 / 100\n",
        "  prezzofinale = importo - sconto\n",
        "elif importo < 200:\n",
        "  sconto = importo * 20 / 100\n",
        "  prezzofinale = importo - sconto\n",
        "elif importo < 300:\n",
        "  sconto = importo * 40 / 100\n",
        "  prezzofinale = importo - sconto\n",
        "elif importo > 300: \n",
        "  sconto = importo * 60 / 100\n",
        "  prezzofinale = importo - sconto\n",
        "\n",
        "print(\"importo da pagare:\", prezzofinale)"
      ],
      "metadata": {
        "id": "zSUPllwkQgHC"
      },
      "execution_count": null,
      "outputs": []
    }
  ]
}
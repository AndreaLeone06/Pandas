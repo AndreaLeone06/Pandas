{
  "nbformat": 4,
  "nbformat_minor": 0,
  "metadata": {
    "colab": {
      "provenance": []
    },
    "kernelspec": {
      "name": "python3",
      "display_name": "Python 3"
    },
    "language_info": {
      "name": "python"
    }
  },
  "cells": [
    {
      "cell_type": "markdown",
      "source": [
        "nuova struttura dati:\n",
        "TUPLE;    non modificabile"
      ],
      "metadata": {
        "id": "fY6mpqbfPGFV"
      }
    },
    {
      "cell_type": "code",
      "source": [
        "tupla1=(1,2,3,4,5)\n",
        "print(tupla1)"
      ],
      "metadata": {
        "id": "mIhRzuUfPRnS",
        "colab": {
          "base_uri": "https://localhost:8080/"
        },
        "outputId": "135970f6-9730-4ae6-85ad-1ce3d824537e"
      },
      "execution_count": null,
      "outputs": [
        {
          "output_type": "stream",
          "name": "stdout",
          "text": [
            "(1, 2, 3, 4, 5)\n"
          ]
        }
      ]
    },
    {
      "cell_type": "code",
      "source": [
        "tupla2=(\"prova\",)\n",
        "print(type(tupla2))\n",
        "print(tupla2)\n",
        "\n",
        "tupla2=(\"prova\")\n",
        "print(type(tupla2))"
      ],
      "metadata": {
        "id": "1QMi7gHFQAG6",
        "colab": {
          "base_uri": "https://localhost:8080/"
        },
        "outputId": "de3e4f6a-150c-4bcc-f648-416fe45b9316"
      },
      "execution_count": null,
      "outputs": [
        {
          "output_type": "stream",
          "name": "stdout",
          "text": [
            "<class 'tuple'>\n",
            "('prova',)\n",
            "<class 'str'>\n"
          ]
        }
      ]
    },
    {
      "cell_type": "code",
      "source": [
        "prova=tuple([\"ciao\",24])\n",
        "print(prova)"
      ],
      "metadata": {
        "id": "52kzBI2ZRtai",
        "colab": {
          "base_uri": "https://localhost:8080/"
        },
        "outputId": "f6d528b2-9ce8-422f-eca8-d25192ccd0b4"
      },
      "execution_count": null,
      "outputs": [
        {
          "output_type": "stream",
          "name": "stdout",
          "text": [
            "('ciao', 24)\n"
          ]
        }
      ]
    },
    {
      "cell_type": "code",
      "source": [
        "import random\n",
        "lista0 = tuple(random.sample(range(1,100),20)) #2 parametri, (lista)\n",
        "print(lista0)"
      ],
      "metadata": {
        "id": "uD1RTi0zThrS",
        "colab": {
          "base_uri": "https://localhost:8080/"
        },
        "outputId": "b741cdc6-36fc-464a-f07b-38b12d392f53"
      },
      "execution_count": null,
      "outputs": [
        {
          "output_type": "stream",
          "name": "stdout",
          "text": [
            "(28, 48, 74, 83, 94, 86, 76, 21, 93, 89, 82, 57, 37, 51, 26, 87, 52, 75, 17, 13)\n"
          ]
        }
      ]
    },
    {
      "cell_type": "code",
      "source": [
        "tupla0= list(lista0)\n",
        "tupla0[0:0] = [\"avasiloae\", \"bernasconi\", \"cottone\"]\n",
        "tupla0= tuple(tupla0)\n",
        "print(tupla0)"
      ],
      "metadata": {
        "id": "e6H3UGDhVpEJ",
        "colab": {
          "base_uri": "https://localhost:8080/"
        },
        "outputId": "1121786b-4d9e-4f11-83bd-a8dce783fc32"
      },
      "execution_count": null,
      "outputs": [
        {
          "output_type": "stream",
          "name": "stdout",
          "text": [
            "('avasiloae', 'bernasconi', 'cottone', 28, 48, 74, 83, 94, 86, 76, 21, 93, 89, 82, 57, 37, 51, 26, 87, 52, 75, 17, 13)\n"
          ]
        }
      ]
    },
    {
      "cell_type": "markdown",
      "source": [
        "nuova stuttura dati: INSIEMI;  non esiste indice, niente duplicati"
      ],
      "metadata": {
        "id": "jWEn9OzAXaXC"
      }
    },
    {
      "cell_type": "code",
      "source": [
        "insieme={\"inter\", \"milan\",\"juventus\"}\n",
        "print(insieme)"
      ],
      "metadata": {
        "colab": {
          "base_uri": "https://localhost:8080/"
        },
        "id": "e4BMgQ-HXn6K",
        "outputId": "b705e836-1a89-4535-aff2-39e15a3ba2d2"
      },
      "execution_count": null,
      "outputs": [
        {
          "output_type": "stream",
          "name": "stdout",
          "text": [
            "{'milan', 'juventus', 'inter'}\n"
          ]
        }
      ]
    },
    {
      "cell_type": "code",
      "source": [
        "insieme2=set((\"luca\",\"antonio\",\"riccardo\",\"luca\"))\n",
        "print(insieme2)"
      ],
      "metadata": {
        "colab": {
          "base_uri": "https://localhost:8080/"
        },
        "id": "psAnrr6cYy-p",
        "outputId": "91d42e91-25aa-47a7-8ee2-fb5b8797e98e"
      },
      "execution_count": null,
      "outputs": [
        {
          "output_type": "stream",
          "name": "stdout",
          "text": [
            "{'riccardo', 'luca', 'antonio'}\n"
          ]
        }
      ]
    },
    {
      "cell_type": "code",
      "source": [
        "len(insieme)"
      ],
      "metadata": {
        "colab": {
          "base_uri": "https://localhost:8080/"
        },
        "id": "cMRvOSu-ZlcR",
        "outputId": "b9c14f78-3c3c-4ece-b094-e5378ebdb19d"
      },
      "execution_count": null,
      "outputs": [
        {
          "output_type": "execute_result",
          "data": {
            "text/plain": [
              "3"
            ]
          },
          "metadata": {},
          "execution_count": 44
        }
      ]
    },
    {
      "cell_type": "code",
      "source": [
        "insiemenumeri={1,2,3,4,5}\n",
        "print(insiemenumeri)"
      ],
      "metadata": {
        "colab": {
          "base_uri": "https://localhost:8080/"
        },
        "id": "RLJmVRxYZp2p",
        "outputId": "5df418d7-0406-4b33-b832-d1b4457ca677"
      },
      "execution_count": null,
      "outputs": [
        {
          "output_type": "stream",
          "name": "stdout",
          "text": [
            "{1, 2, 3, 4, 5}\n"
          ]
        }
      ]
    },
    {
      "cell_type": "code",
      "source": [
        "insieme4={1,2,3}\n",
        "for elemento in insieme4:\n",
        "  print(elemento)"
      ],
      "metadata": {
        "colab": {
          "base_uri": "https://localhost:8080/"
        },
        "id": "Fkp0ks4earBB",
        "outputId": "9b1b48e3-9654-4229-cbaf-04b393b72463"
      },
      "execution_count": null,
      "outputs": [
        {
          "output_type": "stream",
          "name": "stdout",
          "text": [
            "1\n",
            "2\n",
            "3\n"
          ]
        }
      ]
    },
    {
      "cell_type": "code",
      "source": [
        "insieme5={1,2,3,4}\n",
        "insieme5.add(5)#aggiungere un elemento\n",
        "print(insieme5)"
      ],
      "metadata": {
        "colab": {
          "base_uri": "https://localhost:8080/"
        },
        "id": "mVeKF0l0bF35",
        "outputId": "a104a226-acf4-440f-bd96-1be94f57bebe"
      },
      "execution_count": null,
      "outputs": [
        {
          "output_type": "stream",
          "name": "stdout",
          "text": [
            "{1, 2, 3, 4, 5}\n"
          ]
        }
      ]
    },
    {
      "cell_type": "code",
      "source": [
        "insieme6={1,2,3}\n",
        "insieme7={4,5,6}\n",
        "insieme6.update(insieme7)#somma insieme\n",
        "print(insieme6)"
      ],
      "metadata": {
        "colab": {
          "base_uri": "https://localhost:8080/"
        },
        "id": "-Kz1pBmzd6kA",
        "outputId": "2c9358f2-df67-4e66-e5ea-f905db7356f9"
      },
      "execution_count": null,
      "outputs": [
        {
          "output_type": "stream",
          "name": "stdout",
          "text": [
            "{1, 2, 3, 4, 5, 6}\n"
          ]
        }
      ]
    },
    {
      "cell_type": "code",
      "source": [
        "insieme8={1,2,3,4,5}\n",
        "insieme8.remove(1)#discard anche se non c'è non da errore\n",
        "print(insieme8)"
      ],
      "metadata": {
        "colab": {
          "base_uri": "https://localhost:8080/"
        },
        "id": "eJXNNAuZeWrZ",
        "outputId": "390df712-a3b7-4fc7-e0c1-5d2eae36f0e9"
      },
      "execution_count": null,
      "outputs": [
        {
          "output_type": "stream",
          "name": "stdout",
          "text": [
            "{2, 3, 4, 5}\n"
          ]
        }
      ]
    },
    {
      "cell_type": "code",
      "source": [
        "x=insieme8.pop()#eliminare un elemento\n",
        "print(x)\n",
        "print(insieme8)"
      ],
      "metadata": {
        "colab": {
          "base_uri": "https://localhost:8080/"
        },
        "id": "29Zb73K6fNmZ",
        "outputId": "0d5cebd1-d7a8-4b8f-fd9f-8a6fe142f4bb"
      },
      "execution_count": null,
      "outputs": [
        {
          "output_type": "stream",
          "name": "stdout",
          "text": [
            "2\n",
            "{3, 4, 5}\n"
          ]
        }
      ]
    },
    {
      "cell_type": "code",
      "source": [
        "insieme8.clear()#svuotare insieme\n",
        "del insieme8#eliminare inseme"
      ],
      "metadata": {
        "id": "ZghWY8t1f_ca"
      },
      "execution_count": null,
      "outputs": []
    },
    {
      "cell_type": "code",
      "source": [
        "set1 ={1,2,3,4,5}\n",
        "set2 ={6,7,8,9,10}\n",
        "set3=set1.union(set2)#unione 2 insiemi aggiungendo un'altro insieme\n",
        "print(set3)"
      ],
      "metadata": {
        "colab": {
          "base_uri": "https://localhost:8080/"
        },
        "id": "CYcit-SAgaZJ",
        "outputId": "9c822cf1-361d-43f5-9282-e0d34dd4dfd4"
      },
      "execution_count": null,
      "outputs": [
        {
          "output_type": "stream",
          "name": "stdout",
          "text": [
            "{1, 2, 3, 4, 5, 6, 7, 8, 9, 10}\n"
          ]
        }
      ]
    },
    {
      "cell_type": "code",
      "source": [
        "set6={1,2,3,4,5}\n",
        "set7={6,7,8,1,3}\n",
        "set6.intersection(set7) #elementi in comune "
      ],
      "metadata": {
        "colab": {
          "base_uri": "https://localhost:8080/"
        },
        "id": "vHxDIWqChJFw",
        "outputId": "4a5d3d8d-fd68-47a4-b42c-cde2ae091529"
      },
      "execution_count": null,
      "outputs": [
        {
          "output_type": "execute_result",
          "data": {
            "text/plain": [
              "{1, 3}"
            ]
          },
          "metadata": {},
          "execution_count": 53
        }
      ]
    },
    {
      "cell_type": "code",
      "source": [
        "set6={1,2,3,4,5}\n",
        "set7={6,7,8,1,3}\n",
        "set6.symmetric_difference_update(set7)#elementi non in comune\n",
        "print(set6)"
      ],
      "metadata": {
        "colab": {
          "base_uri": "https://localhost:8080/"
        },
        "id": "Vzx_6Ikthj6Q",
        "outputId": "4e24bf13-19e4-448c-d3f2-5b02fbd49cc1"
      },
      "execution_count": null,
      "outputs": [
        {
          "output_type": "stream",
          "name": "stdout",
          "text": [
            "{2, 4, 5, 6, 7, 8}\n"
          ]
        }
      ]
    },
    {
      "cell_type": "code",
      "source": [
        "fruttimilella=milella.difference(avasiloae)#prender tutti gli elementi tranne quelli in comune\n",
        "print(fruttimilella)"
      ],
      "metadata": {
        "id": "kcb3DlBdpzUh"
      },
      "execution_count": null,
      "outputs": []
    },
    {
      "cell_type": "markdown",
      "source": [
        "caricare in una lista 20 numeri casuali tra 1 e 100, ed eliminare i duplicati"
      ],
      "metadata": {
        "id": "0MptPMhfjxRS"
      }
    },
    {
      "cell_type": "code",
      "source": [
        "import random \n",
        "lista=list(set([random.randit(1,100) for i in range(20)]))\n",
        "print(lista)"
      ],
      "metadata": {
        "id": "sMs4-7bljwEx"
      },
      "execution_count": null,
      "outputs": []
    },
    {
      "cell_type": "code",
      "source": [
        "if studentiSistemi.issubset(studentiTecnologie):#sottoinsieme\n",
        "  print(\"si\")\n",
        "else:\n",
        "  print(\"no\")"
      ],
      "metadata": {
        "id": "6WrYJchKaRl6"
      },
      "execution_count": null,
      "outputs": []
    },
    {
      "cell_type": "markdown",
      "source": [
        "nuova struttura dati:DIZIONARI"
      ],
      "metadata": {
        "id": "iw25ITrsmujR"
      }
    },
    {
      "cell_type": "code",
      "source": [
        "carlo={\n",
        "    \"genere\":\"maschio\",\n",
        "    \"età\":15,\n",
        "    \"altezza\":200,\n",
        "}\n",
        "print(carlo)\n",
        "\n",
        "\n",
        "carlo.update({\"cognome\":\"Borghesi\"})#aggiunge\n",
        "carlo[\"genere\"]=\"neri\"#modificare\n",
        "carlo.pop(\"età\")#rimuove \"slot\" con valore\n",
        "print(carlo)"
      ],
      "metadata": {
        "id": "9UR-DBwUmztq",
        "outputId": "a9468626-ef18-4596-e8de-16eec1c07724",
        "colab": {
          "base_uri": "https://localhost:8080/"
        }
      },
      "execution_count": null,
      "outputs": [
        {
          "output_type": "stream",
          "name": "stdout",
          "text": [
            "{'genere': 'maschio', 'età': 15, 'altezza': 200}\n",
            "{'genere': 'neri', 'altezza': 200, 'cognome': 'Borghesi'}\n"
          ]
        }
      ]
    },
    {
      "cell_type": "code",
      "source": [
        "famiglia = {\n",
        "    \"figlio0\" : {\n",
        "        \"nome\" : \"carlo\",\n",
        "        \"età\" : 15,\n",
        "        \"altezza\":200\n",
        "    },\n",
        "    \"figlio1\" : {\n",
        "            \"nome\" : \"gianni\",\n",
        "            \"età\" : 12,\n",
        "            \"altezza\":150\n",
        "        },\n",
        "}\n",
        "\n",
        "print(famiglia)\n",
        "\n",
        "#oppure\n",
        "\n",
        "figlio0 = {\n",
        "    \"nome\" : \"carlo\",\n",
        "    \"età\":15,\n",
        "    \"altezza\":200\n",
        "}\n",
        "\n",
        "figlio1 = {\n",
        "    \"nome\" : \"gianni\",\n",
        "    \"età\":12,\n",
        "    \"altezza\":150\n",
        "}\n",
        "\n",
        "famiglia = {\n",
        "    \"figlio0\" : figlio0,\n",
        "    \"figlio1\" : figlio1\n",
        "}\n",
        "\n",
        "\n",
        "print(famiglia)"
      ],
      "metadata": {
        "id": "JApKskrxzMre"
      },
      "execution_count": null,
      "outputs": []
    },
    {
      "cell_type": "code",
      "source": [
        "for key in carlo:#visualizzare tutte le Chiavi\n",
        "  print(key)"
      ],
      "metadata": {
        "id": "WlTlgsqOzq01"
      },
      "execution_count": null,
      "outputs": []
    },
    {
      "cell_type": "code",
      "source": [
        "for values in carlo:#visualizzare tutti i Valori\n",
        "  print(carlo[values])"
      ],
      "metadata": {
        "id": "r0aevJ-Tz6bm"
      },
      "execution_count": null,
      "outputs": []
    },
    {
      "cell_type": "code",
      "source": [
        "for key, value in carlo.items():#visualizzare tutte le coppie Chiave-Valore\n",
        "  print(key, value)"
      ],
      "metadata": {
        "id": "6Z_kAtKb0qSf",
        "outputId": "4e0b05c5-26be-4428-fb31-4483f7964b32",
        "colab": {
          "base_uri": "https://localhost:8080/"
        }
      },
      "execution_count": null,
      "outputs": [
        {
          "output_type": "stream",
          "name": "stdout",
          "text": [
            "genere neri\n",
            "altezza 200\n",
            "cognome Borghesi\n"
          ]
        }
      ]
    },
    {
      "cell_type": "code",
      "source": [
        "carlo.clear()#svuotare struttura"
      ],
      "metadata": {
        "id": "rlaj_s_-1IHv"
      },
      "execution_count": null,
      "outputs": []
    },
    {
      "cell_type": "code",
      "source": [
        "fifa22 = {\n",
        "    \"sviluppo\":\"EA Sports\",\n",
        "    \"genere\":\"Calcio\",\n",
        "    \"prezzo\":\"70€\" \n",
        "}\n",
        "\n",
        "fifa23 = fifa22.copy()\n",
        "print(fifa23)"
      ],
      "metadata": {
        "id": "UeJnzFDF1NQu"
      },
      "execution_count": null,
      "outputs": []
    },
    {
      "cell_type": "code",
      "source": [
        "key = (\"autostima\", \"motivazione\", \"felicità\")#assegna ad ognuna delle chiavi lo stesso valore\n",
        "value = 0\n",
        "\n",
        "vita = dict.fromkeys(key, value)#dict=dizionario\n",
        "print(vita)"
      ],
      "metadata": {
        "id": "tA7vw65N1hJ9"
      },
      "execution_count": null,
      "outputs": []
    },
    {
      "cell_type": "code",
      "source": [
        "centimetri = carlo.get('altezza')#prende il valore associato ad una chiave\n",
        "print(centimetri)"
      ],
      "metadata": {
        "id": "W9FFzCsE1-P3"
      },
      "execution_count": null,
      "outputs": []
    },
    {
      "cell_type": "code",
      "source": [
        "studente1 = carlo.items()#Restituisce una lista con le coppie di chiave-valore in un Dizionario\n",
        "print(studente1)"
      ],
      "metadata": {
        "id": "GHTEC1es2xaG"
      },
      "execution_count": null,
      "outputs": []
    },
    {
      "cell_type": "code",
      "source": [
        "umano = carlo.keys()#Restituisce una lista con le chiavi di un Dizionario\n",
        "print(umano)"
      ],
      "metadata": {
        "id": "I50naOLg3VdZ",
        "outputId": "75c2cc4b-f596-49b5-9302-7364d5a10883",
        "colab": {
          "base_uri": "https://localhost:8080/"
        }
      },
      "execution_count": null,
      "outputs": [
        {
          "output_type": "stream",
          "name": "stdout",
          "text": [
            "dict_keys(['genere', 'altezza', 'cognome'])\n"
          ]
        }
      ]
    },
    {
      "cell_type": "code",
      "source": [
        "decontensto = carlo.values()#Restituisce una lista con i valori di un Dizionario\n",
        "print(decontensto)"
      ],
      "metadata": {
        "id": "uekFxDx_ukMN"
      },
      "execution_count": null,
      "outputs": []
    },
    {
      "cell_type": "markdown",
      "source": [
        "esercizio 1"
      ],
      "metadata": {
        "id": "r-7IcBES3ctm"
      }
    },
    {
      "cell_type": "code",
      "source": [
        "leone={\n",
        "    \"nome\":\"Andrea\",\n",
        "    \"cognome\":\"Leone\",\n",
        "    \"età\":17,\n",
        "}\n",
        "print(leone)"
      ],
      "metadata": {
        "id": "kMK2DnZk3eKQ"
      },
      "execution_count": null,
      "outputs": []
    },
    {
      "cell_type": "markdown",
      "source": [
        "aggiungere altezza"
      ],
      "metadata": {
        "id": "0f4fQ-QD35Yu"
      }
    },
    {
      "cell_type": "code",
      "source": [
        "leone[\"altezza\"]=190\n",
        "print(leone)"
      ],
      "metadata": {
        "id": "qyHS--w537TQ"
      },
      "execution_count": null,
      "outputs": []
    },
    {
      "cell_type": "markdown",
      "source": [
        "modificare altezza =175"
      ],
      "metadata": {
        "id": "ZzhZcMhC43ZQ"
      }
    },
    {
      "cell_type": "code",
      "source": [
        "leone[\"altezza\"]=175\n",
        "print(leone)"
      ],
      "metadata": {
        "id": "yuI0LuzY4esm"
      },
      "execution_count": null,
      "outputs": []
    },
    {
      "cell_type": "markdown",
      "source": [
        "contare numero chiavi"
      ],
      "metadata": {
        "id": "5WD_yOE745z2"
      }
    },
    {
      "cell_type": "code",
      "source": [
        "len(leone.keys())"
      ],
      "metadata": {
        "id": "63v2bIVb4xnu"
      },
      "execution_count": null,
      "outputs": []
    },
    {
      "cell_type": "markdown",
      "source": [
        "visualizzare seconda chiave"
      ],
      "metadata": {
        "id": "qTK3xru049r-"
      }
    },
    {
      "cell_type": "code",
      "source": [
        "keys=list(leone.keys())\n",
        "print(keys[1])"
      ],
      "metadata": {
        "id": "yR7TlOZU415W"
      },
      "execution_count": null,
      "outputs": []
    },
    {
      "cell_type": "markdown",
      "source": [
        "fare secondo dizionario = primo"
      ],
      "metadata": {
        "id": "42vxjTe65tgv"
      }
    },
    {
      "cell_type": "code",
      "source": [
        "leone2 = leone.copy()\n",
        "print(leone2)"
      ],
      "metadata": {
        "id": "8cLdkG5l5wjP"
      },
      "execution_count": null,
      "outputs": []
    },
    {
      "cell_type": "code",
      "source": [
        "leone2.clear()\n",
        "print(leone)"
      ],
      "metadata": {
        "id": "p6l2xPcs55kH"
      },
      "execution_count": null,
      "outputs": []
    },
    {
      "cell_type": "code",
      "source": [
        "key = (\"batte\", \"forte\", \"sempre\")\n",
        "value = \"comodino\"\n",
        "\n",
        "leone2= dict.fromkeys(key, value)\n",
        "print(leone2)"
      ],
      "metadata": {
        "id": "P7-HW4ra6mPe"
      },
      "execution_count": null,
      "outputs": []
    },
    {
      "cell_type": "markdown",
      "source": [
        "visualizzare tutti gli elementi"
      ],
      "metadata": {
        "id": "u5iKXFqI7w7z"
      }
    },
    {
      "cell_type": "code",
      "source": [
        "for key, value in leone2.items():\n",
        "  print(key, value)"
      ],
      "metadata": {
        "id": "cPAGXQGa708n"
      },
      "execution_count": null,
      "outputs": []
    },
    {
      "cell_type": "markdown",
      "source": [
        "Rimuovi il valore della seconda chiave del secondo dizionario"
      ],
      "metadata": {
        "id": "IUhH_6HDuH3t"
      }
    },
    {
      "cell_type": "code",
      "source": [
        "lista=list(leone2.keys())\n",
        "leone2[lista[1]]=\"\""
      ],
      "metadata": {
        "id": "DAy6Y6tLuKHG"
      },
      "execution_count": null,
      "outputs": []
    },
    {
      "cell_type": "markdown",
      "source": [
        "si vogliono memorizzare le informazioni riguardanti alcune nazioni dell'unione europea. di ogni nazione si vogliono memorizzare il nome, la capitale, la superficie e la popolazione.\n",
        "caricare le informazioni nella struttura dati ritenuta più opportuna.\n",
        "scrivere poi il codice per avere le seguenti informazioni:\n",
        "1.dato il nome di una nazione, tutte le sue informazioni;\n",
        "2.dato il nome di una capitale, visualizzare la nazione a cui appartiene;\n",
        "3.visualizzare il nome della nazione più estesa;\n",
        "4.visualizzare la media delle nazioni presenti."
      ],
      "metadata": {
        "id": "SY5bo1BEvKeu"
      }
    },
    {
      "cell_type": "code",
      "source": [
        "nazioni=[{ \"nome\":\"Austria\",\"capitale\":\"vienna\",\"superficie\":83871,\"abitanti\":8858775} ,\n",
        "         { \"nome\":\"Belgio\",\"capitale\":\"bruxelle\",\"superficie\":30528,\"abitanti\":11467923} ,\n",
        "         { \"nome\":\"Bulgaria\",\"capitale\":\"sofia\",\"superficie\":110879,\"abitanti\":7000039}, \n",
        "         {\"nome\":\"Cipro\",\"capitale\":\"nicosia\",\"superficie\":9251,\"abitanti\":875898} ,\n",
        "         { \"nome\":\"Croazia\",\"capitale\":\"zagabria\",\"superficie\":56542,\"abitanti\":4076246} ,\n",
        "         { \"nome\":\"Danimarca\",\"capitale\":\"copenaghen\",\"superficie\":43094,\"abitanti\":5806081} ,\n",
        "         {\"nome\":\"Estonia\", \"capitale\":\"tallin\",\"superficie\":45228,\"abitanti\":1324820}, \n",
        "         {\"nome\":\"Finlandia\",\"capitale\":\"helsinki\",\"superficie\":338145, \"abitanti\":5517919} ,\n",
        "         {\"nome\":\"Francia\", \"capitale\":\"parigi\",\"superficie\":543965,\"abitanti\":67028048} ,\n",
        "         { \"nome\":\"Germania\",\"capitale\":\"berlino\",\"superficie\":357022,\"abitanti\":83019214}]"
      ],
      "metadata": {
        "id": "efrib5lfwzKE"
      },
      "execution_count": null,
      "outputs": []
    },
    {
      "cell_type": "code",
      "source": [
        "nazioneInserita=input(\"inserisci il nome di una nazione con la prima letterea maiuscola:\")\n",
        "for indice in nazioni:\n",
        "  if nazioneInserita in indice[\"nome\"]:\n",
        "     print(indice)"
      ],
      "metadata": {
        "id": "y-MIvlwM2WPc",
        "colab": {
          "base_uri": "https://localhost:8080/"
        },
        "outputId": "e2af070b-9a9e-4a47-98c0-b0e749eb9d16"
      },
      "execution_count": null,
      "outputs": [
        {
          "output_type": "stream",
          "name": "stdout",
          "text": [
            "inserisci il nome di una nazione con la prima letterea maiuscola:Austria\n",
            "{'nome': 'Austria', 'capitale': 'vienna', 'superficie': 83871, 'abitanti': 8858775}\n"
          ]
        }
      ]
    },
    {
      "cell_type": "code",
      "source": [
        "capitaleInserita=input(\"inserisci il nome di una capitale:\")\n",
        "for indice in nazioni:\n",
        "  if capitaleInserita in indice[\"capitale\"]:\n",
        "     print(indice[\"nome\"])"
      ],
      "metadata": {
        "id": "3QY0MDVG6vjl"
      },
      "execution_count": null,
      "outputs": []
    },
    {
      "cell_type": "code",
      "source": [
        "listaSuperifici = [nazioni[indice][\"superficie\"] for indice in range(len(nazioni))]\n",
        "#print(listaSuperifici)\n",
        "for nazione in nazioni:\n",
        "  if max(listaSuperifici) == nazione[\"superficie\"]:\n",
        "    print(nazione[\"nome\"])"
      ],
      "metadata": {
        "id": "Gn_Ohsxt73aE",
        "colab": {
          "base_uri": "https://localhost:8080/"
        },
        "outputId": "2af5d49a-f4f3-4d82-9b68-31f05acc8efc"
      },
      "execution_count": null,
      "outputs": [
        {
          "output_type": "stream",
          "name": "stdout",
          "text": [
            "Francia\n"
          ]
        }
      ]
    },
    {
      "cell_type": "code",
      "source": [
        "from statistics import mean\n",
        "listaAbitanti= int(mean([nazioni[indice][\"abitanti\"] for indice in range(len(nazioni))]))\n",
        "print(listaAbitanti)"
      ],
      "metadata": {
        "id": "4RE7YrcPFPAW"
      },
      "execution_count": null,
      "outputs": []
    },
    {
      "cell_type": "markdown",
      "source": [
        "memorizare in un'opportuna struttura dati il nome di 10 città europee, e in un'altra struttura dati i nomi di 10 capitali.\n",
        "scrivere poi il codice necessario per avere i nomi delle città che sono anche capitali."
      ],
      "metadata": {
        "id": "6zmUotLlwSEz"
      }
    },
    {
      "cell_type": "code",
      "source": [],
      "metadata": {
        "id": "BRv1BDKfvJu8"
      },
      "execution_count": null,
      "outputs": []
    }
  ]
}